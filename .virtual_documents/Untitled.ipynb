


import math

def naivelog(x, n):
  y = x
  for i in range(n):
    y = math.sqrt(y)
  l = y-1
  for i in range(n):
    l = l*2
  return l

def mylog(x, n):
  z = x-1
  for i in range(n):
    z = z/(1+math.sqrt(1+z))
  l = z
  for i in range(n):
    l = l*2
  return l

# Here we compute the value of lnx for x = 1 to 14 using naivelog. In each iteration of x
# we also compute the naivelog for increasing values of n to show how n affects the error
print("NAIVELOG x = 1,...,14")
#loops over values of x
for i in range(1,15):
    print("")
    #loop over values of n
    for j in range(0, 5):
        nlog = naivelog(i, (j+3)*5)
        print("x: " + str(i) + " n: " + str((j+3)*5) + " naivelog(x): " + str(nlog) + " absolute error: " + str(abs(nlog - math.log(i))))

print("")

# Here we compute the value of lnx for x = 1 to 14 using mylog. In each iteration of x
# we also compute the mylog for increasing values of n to show how n affects the error
print("MYLOG")
#loop over values of x
for i in range(1,15):
    print("")
    #loop over values of n
    for j in range(0, 5):
        mlog = mylog(i, (j+3)*5)
        print("x: " + str(i) + " n: " + str((j+3)*5) + " mylog(x): " + str(mlog) + " absolute error: " + str(abs(mlog - math.log(i))))






