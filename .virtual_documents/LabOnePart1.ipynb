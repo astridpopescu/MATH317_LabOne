


import math

def naivelog(x, n):
  y = x
  for i in range(n):
    y = math.sqrt(y)
  l = y-1
  for i in range(n):
    l = l*2
  return l

def mylog(x, n):
  z = x-1
  for i in range(n):
    z = z/(1+math.sqrt(1+z))
  l = z
  for i in range(n):
    l = l*2
  return l

# Here we compute the value of lnx for x = 1 to 14 using naivelog. In each iteration of x
# we also compute the naivelog for increasing values of n to show how n affects the error
print("NAIVELOG x = 1,...,14")
#loops over values of x
for i in range(1,15):
    print("")
    #loop over values of n
    for j in range(0, 5):
        nlog = naivelog(i, (j+3)*5)
        if math.log(i) == 0:
            print("x: " + str(i) + " n: " + str((j+3)*5) + " naivelog(x): " + str(nlog) + " absolute error: " + str(abs(nlog - math.log(i))))
        else: 
            print("x: " + str(i) + " n: " + str((j+3)*5) + " naivelog(x): " + str(nlog) + " absolute error: " + str(abs(nlog - math.log(i))) + " relative error: " + str(abs((nlog - math.log(i))/math.log(i))))

print("")

# Here we compute the value of lnx for x = 1 to 14 using mylog. In each iteration of x
# we also compute the mylog for increasing values of n to show how n affects the error
print("MYLOG")
#loop over values of x
for i in range(1,15):
    print("")
    #loop over values of n
    for j in range(0, 5):
        mlog = mylog(i, (j+3)*5)
        if math.log(i) == 0:
            print("x: " + str(i) + " n: " + str((j+3)*5) + " mylog(x): " + str(mlog) + " absolute error: " + str(abs(mlog - math.log(i))))
        else:
            print("x: " + str(i) + " n: " + str((j+3)*5) + " mylog(x): " + str(mlog) + " absolute error: " + str(abs(mlog - math.log(i))) + " relative error: " + str(abs((mlog - math.log(i))/math.log(i))))





import math

# For this algorithm, we use the fact that e^x = e^(nr) where n = 2^k
# this mean e^x = (e^r)^n and since r is small, we compute the value of e^r using the first two terms of the taylor series for e^x which are 1 and x
# so we get x^r = 1 + r and then we need to scale the value by taking (1+r) ^ n to get back the approximation of e^x 
def myexponential(x, n):
    r = x
    # Here we find the value of r by dividing by 2 n times such that r = x/2^n
    for i in range (n):
        r = r/2
    # we then add 1 to final r to get the approximation of e^r = 1 + r
    l = 1 + r
    #Finally need to scale back to get approximation of e^x by taking (1 + r)*(1 + r)*... n times
    for i in range (n):
        l = l * l
    return l

# For this algorithm we use the face that sin (x) = 2sin(x/2)cos(x/2) = 2sin(x/2)* root(1-sin^2(x/2))
# We reduce the argument of x by dividing by two n times in order to make x a small value where we can then approximate sin(x/2^n-1) with the first term
# in the taylor series of sinx which is x
# After use the formula along with scaling by multiplying by 2 n-1 times to approximate sin(x)
def mysin(x, n):
    r = x
    # Here we scale the argument of x by dividing by 2 n times in order to get a value close to 0 based on n
    for i in range (n):
        r = r/2
    # Then we use the fromula along with scaling by multiplying by 2 to approximate sin(x) from sin(x/2^n)
    l = r * math.sqrt(1 - r ** 2)
    # We loop only to n-1 becuase the formula uses sin(x/2^k) to approximate sin(x/2^k-1) and since we want sin(x) we only multiply n-1 times.
    for i in range (n-1):
        l = l*2
    return l

print("MYEXP")
# Approximate value of e^x for x = 1, ..., 15 and then show absolute and relative error
for i in range(1, 15):
    print("")
    #loop over values of n
    for j in range(0, 5):
        x = i
        # Use powers of 2 for values of n since we get more better approximation for higher powers
        n = 2 ** j
        mexp = myexponential(x, n)
        print("x: " + str(x) + " n: " + str(n) + " myexp(x): " + str(mexp) + " absolute error: " + str(abs(mexp - math.exp(x))) + " relative error: " + str(abs((mexp - math.exp(x))/math.exp(x))))

print("MYSIN")
# Approximate value of sin(x) for x = 0.1, ..., 1.6 and then show absolute and relative error
for i in range(1, 17):
    print("")
    #loop over values of n
    for j in range(0, 5):
        # Divide by 10 so that values range from 0 to pi/2 and a bit over
        x = i/10
        n = (j+3)*5
        msin = mysin(x, n)
        if (math.sin(x) == 0):
            print("x: " + str(x) + " n: " + str(n) + " mysin(x): " + str(msin) + " absolute error: " + str(abs(msin - math.sin(x))))
        else: 
            print("x: " + str(x) + " n: " + str(n) + " mysin(x): " + str(msin) + " absolute error: " + str(abs(msin - math.sin(x))) + " relative error: " + str(abs((msin - math.sin(x))/math.sin(x))))

    


import math

#For argument reduction of arctan we use the following formula arctanx = 2arctan x/(1 + root(1 + x^2))
# This is derived from the following identity arctan a + arctan b = arctan (a+b)/(1-ab) where we set a = b
def myarctan(x, n):
    z = x
    # We use the value of z and iteratively compute z/(1 + root(1 + z^2)) n times
    for i in range(n):
        z = z/(1+math.sqrt(1+(z**2)))
    # Here we set l to z after the argument has been reduced n times where l represents the first term in the taylor series for arctan
    # The taylor series is arctan(x) = x - x^3/3 + x^5/5 - ... so we take arctan(z) = z assuming z is small
    l = z
    # Now we have to scale our reduction back from arctan(z) so that we get the approximate value of arctan(x)
    # We multiplyt l by 2 n times since we reduced x n times
    for i in range(n):
        l = l*2
    return l

# Here we compute arctan(x) for x=1 to 16 and different values on n. We show the absolute error in comparison to the exact value
# Can see from the results that larger values of n result in much smaller error
for i in range(1, 16):
    print("")
    #loop over values of n
    for j in range(0, 5):
        x = i/10
        n = (j+3)*5
        marctan = myarctan(x, n)
        print("x: " + str(x) + " n: " + str(n) + " myarctan(x): " + str(marctan) + " absolute error: " + str(abs(marctan - math.atan(x))) + " relative error: " + str(abs((marctan - math.atan(x))/math.atan(x))))


# Now to compute pi we know that arctan x = arctan y = arctan (x+y)/(1-xy)
# We know that pi/4 = arctan 1 from the triangle, and thus can use the algorithm to try and compute pi

print("")
pi = 4 * myarctan(1, 100)
print("PI: " + str(pi))

# We can see from the result below that we were able to estimate 15 digits of pi with a large value of n






